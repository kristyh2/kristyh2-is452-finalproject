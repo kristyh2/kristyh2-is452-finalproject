{
 "cells": [
  {
   "cell_type": "code",
   "execution_count": null,
   "metadata": {},
   "outputs": [],
   "source": [
    "#Final Project\n",
    "#Kristy Hamilton\n",
    "#netid: kristyh2\n",
    "\n",
    "## RUBRIC FOR STUDENTS\n",
    "# 1. The first line of your assignment must be [Insert name of Assignment].\n",
    "# 2. The second line of your assignment must be your UIN.\n",
    "# For example:\n",
    "# CMN529_ASSIGNMENT1\n",
    "# UIN: 67203477\n",
    "\n",
    "# For the sake of this assignment, we start at the point of having assignments submitted as txt files.\n",
    "# In the future, I will add code that is able to convert word documents into txt files using the following method:\n",
    "# https://automatetheboringstuff.com/chapter13/"
   ]
  },
  {
   "cell_type": "markdown",
   "metadata": {},
   "source": [
    "The first part of this program contains input fields. This is the most important part to people who want to grade assignments using this program. The fields that have input statements will become the primary variables for the who program:"
   ]
  },
  {
   "cell_type": "code",
   "execution_count": null,
   "metadata": {},
   "outputs": [],
   "source": [
    "# this is a brief explanation of the program\n",
    "print(\"This program grades basic assignments for a class. To get started, you must create a CSV file that contains a list of \"\n",
    "      \"unique IDs that correspond to an assignment in the first column. Give the column a heading name in row 1. All other columns must be empty.\")\n",
    "\n",
    "# input a csv file\n",
    "csv_input = input(\"What is the name of the csv you would like to read? (e.g., CMN529_assn1.csv): \")\n",
    "\n",
    "\n",
    "# list of assignment criteria selected by the grader\n",
    "assn_name = input(\"What is the name of the assignment? (You must instruct students to write the assignment name on the first line of their word document): \")\n",
    "assn_name = assn_name.lower()\n",
    "\n",
    "possible_points = float(input(\"How many points is this assignment worth? (e.g., 20): \")) #this represents a total. Weighted percentages will act upon this number\n",
    "completion_wt = float(input(\"How much is completion weighted? (e.g., put .9 if completion is worth 80% of the grade): \"))\n",
    "wordcount_min = float(input(\"What is the MINIMUM word count for this assignment? (e.g., 500): \"))\n",
    "wordcount_max = float(input(\"What is the MAXIMUM word count for this assignment? (e.g., 1000): \"))\n",
    "print(\"  IMPORTANT: You have \", round(1-completion_wt, 2), \"left to distribute.\")\n",
    "wordcount_wt = float(input(\"How much is wordcount weighted? (e.g., put .1 if completion is worth 20% of the grade): \"))\n",
    "wt_total = wordcount_wt + completion_wt\n",
    "\n",
    "if (wt_total) != 1.0:\n",
    "    print(\"Your weighted inputs must add to 1.0. Please try again.\")\n",
    "    completion_wt = float(input(\"How much is completion weighted? (e.g., put .9 if completion is worth 80% of the grade): \"))\n",
    "    print(\"  IMPORTANT: You have \", round(1-completion_wt, 2), \"left to distribute.\")\n",
    "    wordcount_wt = float(input(\"How much is wordcount weighted? (e.g., put .1 if completion is worth 20% of the grade): \"))"
   ]
  },
  {
   "cell_type": "markdown",
   "metadata": {},
   "source": [
    "If you want to add to the program and don't want to keep on entering inputs every time you run it, you can comment out the part above and use the sample input for testing. The sample input also requires that you use the sample documents that are stored on GitHub."
   ]
  },
  {
   "cell_type": "code",
   "execution_count": null,
   "metadata": {},
   "outputs": [],
   "source": [
    "## SAMPLE INPUT FOR TESTING\n",
    "\n",
    "# csv_input = \"sample_CMN529_assn1.csv\"\n",
    "# assn_name = \"CMN529_ASSN1\"\n",
    "# assn_name = assn_name.lower()\n",
    "# possible_points = 20\n",
    "# completion_wt = .9\n",
    "# wordcount_min = 500\n",
    "# wordcount_wt = .1"
   ]
  },
  {
   "cell_type": "markdown",
   "metadata": {},
   "source": [
    "The next section has all the functions that are used in this program:"
   ]
  },
  {
   "cell_type": "code",
   "execution_count": null,
   "metadata": {},
   "outputs": [],
   "source": [
    "# function that counts words\n",
    "def wordcount(text):\n",
    "    return len(text.split())\n",
    "\n",
    "#function to grade each assignment\n",
    "def grade_assn(text):\n",
    "    completion_score = completion_wt*possible_points #calculate the possible points for completion\n",
    "    wordcount_score = wordcount_wt*possible_points\n",
    "    count = wordcount(text)\n",
    "    if wordcount_max > count > wordcount_min:\n",
    "        text = wordcount_score + completion_score\n",
    "    else:\n",
    "        text = completion_score\n",
    "    return text\n",
    "\n",
    "#function to clean file name so that it shows only the ID (this will serve as a check)\n",
    "def clean_filename(line_str):\n",
    "    line_str = line_str[len(assn_name)+1:]\n",
    "    line_str = line_str[:-4]\n",
    "    return line_str"
   ]
  },
  {
   "cell_type": "markdown",
   "metadata": {},
   "source": [
    "Now, the program is going to open the CSV file that the grader created and extract the list of IDs that represent the student roster."
   ]
  },
  {
   "cell_type": "code",
   "execution_count": null,
   "metadata": {},
   "outputs": [],
   "source": [
    "# Code to input a CSV file \n",
    "\n",
    "import csv\n",
    "\n",
    "id_list = [] # id_list contains a string of unique IDs that correspond to all students in the class\n",
    "\n",
    "with open(str(csv_input), 'r', newline = '') as infile: #opens the csv file with IDs and makes a list\n",
    "    csvin = csv.reader(infile)\n",
    "    headers = next(csvin)\n",
    "    for line in csvin:\n",
    "        id_list.append(line)\n",
    "\n",
    "id_list = [i[0] for i in id_list]\n",
    "# print(id_list)"
   ]
  },
  {
   "cell_type": "code",
   "execution_count": null,
   "metadata": {},
   "outputs": [],
   "source": [
    "Now that we have all of the student IDs, we can bring in all the submitted assignments:"
   ]
  },
  {
   "cell_type": "code",
   "execution_count": null,
   "metadata": {},
   "outputs": [],
   "source": [
    "import glob\n",
    "\n",
    "read_files = glob.glob(str(assn_name)+\"*.txt\") #this creates a path for all txt files that begin with \"Sample\". You can change this to something like the name of your course."
   ]
  },
  {
   "cell_type": "code",
   "execution_count": null,
   "metadata": {},
   "outputs": [],
   "source": [
    "Next, we have a few empty lists. That will be used throughought the program:"
   ]
  },
  {
   "cell_type": "code",
   "execution_count": null,
   "metadata": {},
   "outputs": [],
   "source": [
    "clean_id_list = []\n",
    "possible_points_list = []\n",
    "wordcount_list = []\n",
    "grade_list = []\n",
    "percentage_list = []\n",
    "\n",
    "gradebook = [] # I'm creating a gradebook which will become a dictionary that will be exported to CSV. This is like \"allrows\""
   ]
  },
  {
   "cell_type": "markdown",
   "metadata": {},
   "source": [
    "The bulk of the coding is below. \n",
    "\n",
    "First, you'll see a loop that creates a list of completed assignments. This is used so that the program has a list of all submissions to compare to the list of all students so that it can find students that didn't submit an assignment and assign a 0 to their score. \n",
    "\n",
    "Then, you'll see a for loop that does all the grading."
   ]
  },
  {
   "cell_type": "code",
   "execution_count": null,
   "metadata": {},
   "outputs": [],
   "source": [
    "completed_assn = []\n",
    "for f in read_files:\n",
    "    completed_assn.append(clean_filename(str(f)))\n",
    "print(completed_assn)\n",
    "\n",
    "for id in id_list:\n",
    "    for f in read_files: # for one assignment in all the assignments glob found\n",
    "        clean_id = clean_filename(str(f))\n",
    "        if id == clean_id:\n",
    "            with open(f, \"r\", encoding = 'utf-8') as infile: # may have to change encoding if you're getting an error\n",
    "                text = infile.readlines()\n",
    "                assignment = text[0] #first line of the assignment (should be assignment name)\n",
    "                uin = text[1] #second line of the assignment (should be uin)\n",
    "                assntext = \"\".join(text[2:]) #everything after line 2 is the assignment text\n",
    "                count = wordcount(assntext)\n",
    "                grade = grade_assn(assntext)\n",
    "                percentage = (grade/possible_points)*100\n",
    "                print(clean_id, assignment, uin, count, grade, percentage)\n",
    "                row = []\n",
    "                row.append(id)\n",
    "                row.append(possible_points)\n",
    "                row.append(count)\n",
    "                row.append(grade)\n",
    "                row.append(percentage)\n",
    "                gradebook.append(row)\n",
    "                # long format\n",
    "                clean_id_list.append(clean_id)\n",
    "                possible_points_list.append(possible_points)\n",
    "                wordcount_list.append(count)\n",
    "                grade_list.append(grade)\n",
    "                percentage_list.append(percentage)\n",
    "    if id not in completed_assn:\n",
    "                row = []\n",
    "                row.append(id)\n",
    "                row.append(possible_points)\n",
    "                row.append(0)\n",
    "                row.append(0)\n",
    "                row.append(0)\n",
    "                gradebook.append(row)\n",
    "            # long format\n",
    "            # clean_id_list.append(\"NA\")\n",
    "            # possible_points_list.append(possible_points)\n",
    "            # wordcount_list.append(0)\n",
    "            # grade_list.append(0)\n",
    "            # percentage_list.append(0)"
   ]
  },
  {
   "cell_type": "markdown",
   "metadata": {},
   "source": [
    "Now that all the assignments have been graded, we can write out the gradebook list, which contains rows of data for each student, into a CSV file."
   ]
  },
  {
   "cell_type": "code",
   "execution_count": null,
   "metadata": {},
   "outputs": [],
   "source": [
    "headers = [\"clean_id\", \"possible_points\"+\" (\"+str(possible_points)+\")\", \"wordcount\"+\" (\"+str(wordcount_min)+\")\", \"grade\", \"percentage\"]\n",
    "\n",
    "with open(str(csv_input[:-4])+\"_GRADED\"+\".csv\", \"w\", newline = \"\") as outfile:\n",
    "    csvout = csv.writer(outfile)\n",
    "    csvout.writerow(headers)\n",
    "    csvout.writerows(gradebook)"
   ]
  }
 ],
 "metadata": {
  "kernelspec": {
   "display_name": "Python 3",
   "language": "python",
   "name": "python3"
  },
  "language_info": {
   "codemirror_mode": {
    "name": "ipython",
    "version": 3
   },
   "file_extension": ".py",
   "mimetype": "text/x-python",
   "name": "python",
   "nbconvert_exporter": "python",
   "pygments_lexer": "ipython3",
   "version": "3.6.5"
  }
 },
 "nbformat": 4,
 "nbformat_minor": 2
}
